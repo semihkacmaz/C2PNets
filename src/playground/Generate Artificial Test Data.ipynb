{
 "cells": [
  {
   "cell_type": "code",
   "execution_count": null,
   "id": "5c7ad7c5-32b7-4676-a7bd-73db8a956f6a",
   "metadata": {
    "tags": []
   },
   "outputs": [],
   "source": [
    "import torch\n",
    "import copy\n",
    "import numpy as np"
   ]
  },
  {
   "cell_type": "code",
   "execution_count": null,
   "id": "c52a3110-dd6e-4409-a13f-6b2ea06c6a47",
   "metadata": {
    "tags": []
   },
   "outputs": [],
   "source": [
    "# n_samples_list = [50000, 100000, 200000]\n",
    "n_samples_list = [1000000, 2500000, 10000000]\n",
    "gamma_th = 5/3\n",
    "K = [8.9493e-02, None, None, None]  \n",
    "Gamma = [1.3569e+00, 3.0050e+00, 2.9880e+00, 2.8510e+00]\n",
    "rho_breaks = [2.3674e-04, 8.1147e-04, 1.6191e-03]\n",
    "\n",
    "rho_min = 2e-5\n",
    "rho_max = 2e-3\n",
    "\n",
    "loaded_stats_out = np.loadtxt(\"./speed_test/gpu/mean_std_out_s_pen100.txt\")\n",
    "train_out_mean = torch.tensor(loaded_stats_out[0], dtype=torch.float32)\n",
    "train_out_std = torch.tensor(loaded_stats_out[1], dtype=torch.float32)\n",
    "\n",
    "loaded_stats_in = np.loadtxt(\"./speed_test/gpu/mean_std_in_s_pen100.txt\")\n",
    "train_in_mean = torch.tensor(loaded_stats_in[0], dtype=torch.float32)\n",
    "train_in_std = torch.tensor(loaded_stats_in[1], dtype=torch.float32)\n",
    "\n",
    "for n_samples in n_samples_list:\n",
    "    rho = rho_min + (rho_max - rho_min) * torch.rand(n_samples, 1)\n",
    "    vx  = 0.721 * torch.rand(n_samples, 1)\n",
    "    W = (1 - vx**2).pow(-0.5)\n",
    "\n",
    "    a_i = torch.zeros(len(K))\n",
    "    for i in range(1, len(K)):\n",
    "        K[i] = K[i-1] * rho_breaks[i-1]**(Gamma[i-1] - Gamma[i])\n",
    "        a_i[i] = a_i[i-1] + K[i-1] * rho_breaks[i-1]**(Gamma[i-1] - 1) / (Gamma[i-1] - 1) - K[i] * rho_breaks[i-1]**(Gamma[i] - 1) / (Gamma[i] - 1)\n",
    "\n",
    "    p = torch.zeros_like(rho)\n",
    "    eps_cold = torch.zeros_like(rho)\n",
    "    h = torch.zeros_like(rho)\n",
    "    eps = torch.zeros_like(rho)\n",
    "    for i in range(len(K)):\n",
    "        if i == 0:\n",
    "            mask = rho < rho_breaks[i]\n",
    "        elif i < len(K) - 1:\n",
    "            mask = (rho >= rho_breaks[i-1]) & (rho < rho_breaks[i])\n",
    "        else:\n",
    "            mask = rho >= rho_breaks[i-1]\n",
    "    \n",
    "        eps_cold[mask] = a_i[i] + K[i] * rho[mask]**(Gamma[i] - 1) / (Gamma[i] - 1)\n",
    "        p[mask] = K[i] * rho[mask]**Gamma[i]\n",
    "\n",
    "    eps_min = 0\n",
    "    eps_max = 2\n",
    "    eps_th = eps_min + (eps_max - eps_min) * torch.rand(n_samples, 1)\n",
    "    p_th = (gamma_th - 1) * rho * eps_th\n",
    "    p += p_th\n",
    "    h = 1 + eps_cold + eps_th + p / rho\n",
    "\n",
    "    D = rho * W\n",
    "    Sx = rho * h * W**2 * vx\n",
    "    tau = rho * h * W**2 - p - D\n",
    "\n",
    "    inputs = torch.cat((D, Sx, tau), dim=1)\n",
    "    outputs = copy.deepcopy(p)\n",
    "\n",
    "    inputs_scaled = (inputs - train_in_mean) / train_in_std\n",
    "    outputs_scaled = (outputs - train_out_mean) / train_out_std\n",
    "    \n",
    "    inputs_unscaled_np = inputs.numpy()\n",
    "    outputs_unscaled_np = outputs.numpy()\n",
    "    inputs_scaled_np = inputs_scaled.numpy()\n",
    "    outputs_scaled_np = outputs_scaled.numpy()\n",
    "    \n",
    "    np.savetxt(\"inputs_test_unscaled_\" + str(n_samples) + \".txt\", inputs_unscaled_np, fmt='%.9g')\n",
    "    np.savetxt(\"outputs_test_unscaled_\" + str(n_samples) + \".txt\", outputs_unscaled_np, fmt='%.9g')\n",
    "    np.savetxt(\"inputs_test_scaled_\" + str(n_samples) + \".txt\", inputs_scaled_np, fmt='%.9g')\n",
    "    np.savetxt(\"outputs_test_scaled_\" + str(n_samples) + \".txt\", outputs_scaled_np, fmt='%.9g')\n"
   ]
  },
  {
   "cell_type": "code",
   "execution_count": null,
   "id": "61e7e488-834d-4598-aab6-27c0933a6849",
   "metadata": {
    "tags": []
   },
   "outputs": [],
   "source": [
    "# Quick sanity check\n",
    "device = torch.device(\"cuda\" if torch.cuda.is_available() else \"cpu\")\n",
    "model_path = \"NNC2PS.pth\"\n",
    "model = torch.jit.load(model_path, map_location=device)\n",
    "model = model.to(device)\n",
    "model.eval()\n",
    "\n",
    "input_values = np.loadtxt(\"inputs_test_scaled_200000.txt\")\n",
    "\n",
    "input_values = (input_values - train_in_mean.cpu().numpy()) / train_in_std.cpu().numpy() # Comment out to check whether scaling is done expectedly\n",
    "with torch.no_grad():\n",
    "    # input_values = input_scaler.transform(input_values)\n",
    "    input_values = torch.from_numpy(input_values).float()\n",
    "    predictions = model(input_values.to(device))\n",
    "    predictions = predictions.cpu().numpy()"
   ]
  },
  {
   "cell_type": "code",
   "execution_count": null,
   "id": "24e2dfc7-9c0b-466c-958b-506fc11a9746",
   "metadata": {
    "tags": []
   },
   "outputs": [],
   "source": [
    "predictions * train_out_std.cpu().numpy() + train_out_mean.cpu().numpy()"
   ]
  },
  {
   "cell_type": "code",
   "execution_count": null,
   "id": "2ca70672-b85d-4683-b4d6-a7834b87f8ec",
   "metadata": {
    "tags": []
   },
   "outputs": [],
   "source": [
    "predictions * train_out_std.cpu().numpy() + train_out_mean.cpu().numpy() # Run again after commenting out input_values scaling two cells above"
   ]
  },
  {
   "cell_type": "code",
   "execution_count": null,
   "id": "57f61522-a5ce-4b4f-b8ba-902241ed7fc7",
   "metadata": {},
   "outputs": [],
   "source": []
  }
 ],
 "metadata": {
  "kernelspec": {
   "display_name": "Python 3",
   "language": "python",
   "name": "python3"
  },
  "language_info": {
   "codemirror_mode": {
    "name": "ipython",
    "version": 3
   },
   "file_extension": ".py",
   "mimetype": "text/x-python",
   "name": "python",
   "nbconvert_exporter": "python",
   "pygments_lexer": "ipython3",
   "version": "3.9.18"
  }
 },
 "nbformat": 4,
 "nbformat_minor": 5
}
