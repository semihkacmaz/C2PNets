{
 "cells": [
  {
   "cell_type": "code",
   "execution_count": null,
   "id": "ec4194a1-cb5a-4a05-b271-a5f91c318c57",
   "metadata": {
    "tags": []
   },
   "outputs": [],
   "source": [
    "import onnx\n",
    "import torch\n",
    "import tensorrt as trt\n",
    "import numpy as np\n",
    "import os"
   ]
  },
  {
   "cell_type": "code",
   "execution_count": null,
   "id": "75598e63-2b3b-453b-8baf-7a7cb7306d42",
   "metadata": {
    "tags": []
   },
   "outputs": [],
   "source": [
    "device = torch.device('cuda' if torch.cuda.is_available() else 'cpu')\n",
    "print(device)\n",
    "\n",
    "data_dir = os.getcwd() + \"/speed_test/gpu/\"\n",
    "input_filename = \"inputs_test_scaled_1000000.txt\"\n",
    "\n",
    "data = np.loadtxt(os.path.join(data_dir, input_filename))\n",
    "inputs_test_tensor = torch.tensor(data, dtype=torch.float32)\n",
    "inputs_test_tensor = inputs_test_tensor.to(device)"
   ]
  },
  {
   "cell_type": "code",
   "execution_count": null,
   "id": "bb3e2c1c-4cff-459f-a593-b76104412928",
   "metadata": {
    "tags": []
   },
   "outputs": [],
   "source": [
    "inputs_test_tensor[:5]"
   ]
  },
  {
   "cell_type": "code",
   "execution_count": null,
   "id": "f69e3698-4329-4831-86d2-8c9233366b5d",
   "metadata": {
    "tags": []
   },
   "outputs": [],
   "source": [
    "# Load model\n",
    "model_dir = \"../models/\"\n",
    "model_name = \"NNC2PL\"\n",
    "\n",
    "\n",
    "model_path = os.path.join(model_dir, model_name + \".pth\")\n",
    "model = torch.jit.load(model_path, map_location=device)\n",
    "model = model.to(device)\n",
    "model.eval()"
   ]
  },
  {
   "cell_type": "code",
   "execution_count": null,
   "id": "b2e62d4f-e8d9-450b-9059-8bf36e706057",
   "metadata": {
    "tags": []
   },
   "outputs": [],
   "source": [
    "# Export onnx model\n",
    "onnx_model_path = os.path.join(model_dir, model_name + \"_1M\" + \".onnx\")\n",
    "torch.onnx.export(model, inputs_test_tensor, onnx_model_path, verbose=True)\n",
    "\n",
    "\n",
    "# # Causes issues, come back to this later\n",
    "# torch.onnx.export(\n",
    "#     model,\n",
    "#     inputs_test_tensor,\n",
    "#     onnx_model_path,\n",
    "#     verbose=True,\n",
    "#     input_names=[\"input\"],\n",
    "#     output_names=[\"output\"],\n",
    "#     dynamic_axes={\"input\": {0: \"batch_size\"}, \"output\": {0: \"batch_size\"}}\n",
    "# )"
   ]
  },
  {
   "cell_type": "code",
   "execution_count": null,
   "id": "f4bbf4c5-d297-4c0c-a28e-93c78a4a0e19",
   "metadata": {
    "tags": []
   },
   "outputs": [],
   "source": [
    "# BUILD A DYNAMIC TRT ENGINE \n",
    "\n",
    "engine_path = os.path.join(model_dir, model_name + \"_1M\" + \".engine\")\n",
    "# # engine_path = os.path.join(model_dir, model_name + \"_1M\" + \"_FP16\" + \".engine\") # Uncomment for FP16\n",
    "\n",
    "logger = trt.Logger(trt.Logger.VERBOSE)\n",
    "builder = trt.Builder(logger)\n",
    "\n",
    "network = builder.create_network(1 << int(trt.NetworkDefinitionCreationFlag.EXPLICIT_BATCH))\n",
    "parser = trt.OnnxParser(network, logger)\n",
    "\n",
    "with open(onnx_model_path, 'rb') as model:\n",
    "    if not parser.parse(model.read()):\n",
    "        print(\"Failed to parse the ONNX model\")\n",
    "        for error in range(parser.num_errors):\n",
    "            print(parser.get_error(error))\n",
    "        raise RuntimeError(\"Failed to parse ONNX model.\")\n",
    "\n",
    "config = builder.create_builder_config()\n",
    "\n",
    "config.set_memory_pool_limit(trt.MemoryPoolType.WORKSPACE, 2 << 30)  # 2GB\n",
    "config.set_flag(trt.BuilderFlag.FP16)  # Uncomment for FP16\n",
    "\n",
    "# Set optimization profile for dynamic batching\n",
    "profile = builder.create_optimization_profile() \n",
    "min_batch_size = int(inputs_test_tensor.shape[0] * 0.95 / 20)\n",
    "optim_batch_size = int(inputs_test_tensor.shape[0] / 20)\n",
    "max_batch_size = int(inputs_test_tensor.shape[0] * 1.05 / 20)\n",
    "dim = inputs_test_tensor.shape[1]\n",
    "profile.set_shape(\"inputs_test_tensor\", trt.Dims((min_batch_size, dim)), trt.Dims((optim_batch_size, dim)), trt.Dims((max_batch_size, dim)))\n",
    "config.add_optimization_profile(profile)\n",
    "\n",
    "serialized_engine = builder.build_serialized_network(network, config)\n",
    "with open(engine_path, \"wb\") as f:\n",
    "    f.write(serialized_engine)"
   ]
  },
  {
   "cell_type": "code",
   "execution_count": null,
   "id": "43163e50-0ca1-46e1-9c26-635d7b7f7177",
   "metadata": {},
   "outputs": [],
   "source": [
    "TRT_LOGGER = trt.Logger(trt.Logger.INFO)\n",
    "runtime = trt.Runtime(TRT_LOGGER)\n",
    "\n",
    "def load_engine(engine_path):\n",
    "    with open(engine_path, \"rb\") as f:\n",
    "        engine_data = f.read()\n",
    "    return runtime.deserialize_cuda_engine(engine_data)"
   ]
  },
  {
   "cell_type": "code",
   "execution_count": null,
   "id": "ea1c696f-4816-4d90-9ebd-c5ecb0645089",
   "metadata": {
    "tags": []
   },
   "outputs": [],
   "source": [
    "def print_engine_details(engine):\n",
    "    print(\"Engine has {} bindings:\".format(engine.num_bindings))\n",
    "    for i in range(engine.num_bindings):\n",
    "        binding_name = engine.get_binding_name(i)\n",
    "        binding_shape = engine.get_binding_shape(i)\n",
    "        binding_dtype = engine.get_binding_dtype(i)\n",
    "        is_input = engine.binding_is_input(i)\n",
    "        print(\"Binding {}: Name = {}, Shape = {}, DataType = {}, {}\".format(\n",
    "            i, binding_name, binding_shape, binding_dtype, \"Input\" if is_input else \"Output\"\n",
    "        ))"
   ]
  },
  {
   "cell_type": "code",
   "execution_count": null,
   "id": "2f868e05-c317-4ef0-8953-c272a16b7c0f",
   "metadata": {
    "tags": []
   },
   "outputs": [],
   "source": [
    "print_engine_details(eng)"
   ]
  },
  {
   "cell_type": "code",
   "execution_count": null,
   "id": "72893f2d-f476-4bc5-ac92-43bcfe119465",
   "metadata": {},
   "outputs": [],
   "source": []
  }
 ],
 "metadata": {
  "kernelspec": {
   "display_name": "Python 3",
   "language": "python",
   "name": "python3"
  },
  "language_info": {
   "codemirror_mode": {
    "name": "ipython",
    "version": 3
   },
   "file_extension": ".py",
   "mimetype": "text/x-python",
   "name": "python",
   "nbconvert_exporter": "python",
   "pygments_lexer": "ipython3",
   "version": "3.9.18"
  }
 },
 "nbformat": 4,
 "nbformat_minor": 5
}
